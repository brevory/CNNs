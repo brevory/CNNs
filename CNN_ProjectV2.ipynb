version https://git-lfs.github.com/spec/v1
oid sha256:3cba3517d67a53b494d2e48801e6da22aeb8e9ba748a6f4281883004b4762e56
size 28827657
