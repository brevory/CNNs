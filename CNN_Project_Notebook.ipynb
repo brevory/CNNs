version https://git-lfs.github.com/spec/v1
oid sha256:521e3f40a4e577253af98c9a02bbff16c05c0d3fcc8dca015f2298d7f75d4651
size 28829789
